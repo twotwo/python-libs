{
 "cells": [
  {
   "cell_type": "code",
   "execution_count": 3,
   "metadata": {},
   "outputs": [],
   "source": [
    "import numpy as np\n",
    "import pandas as pd"
   ]
  },
  {
   "cell_type": "code",
   "execution_count": 4,
   "metadata": {
    "tags": []
   },
   "outputs": [
    {
     "output_type": "stream",
     "name": "stdout",
     "text": ",0\n2020-01-01,0\n2020-01-02,1\n2020-01-03,2\n2020-01-04,3\n2020-01-05,4\n2020-01-06,5\n2020-01-07,6\n"
    }
   ],
   "source": [
    "# Series 也有 to_csv 方法：\n",
    "dates = pd.date_range(\"2020/1/1\", periods=7)\n",
    "ts = pd.Series(np.arange(7), index=dates)\n",
    "ts.to_csv(\"/tmp/ts.csv\")\n",
    "! cat /tmp/ts.csv"
   ]
  },
  {
   "cell_type": "code",
   "execution_count": 7,
   "metadata": {},
   "outputs": [
    {
     "output_type": "execute_result",
     "data": {
      "text/plain": "{'a': ('1', '1'), ' \"b\"': (' \"2\"', ' \"2\"'), ' \"c\"': (' \"3\"', ' \"3\"')}"
     },
     "metadata": {},
     "execution_count": 7
    }
   ],
   "source": [
    "# 6.1.3 使用分隔格式\n",
    "import csv\n",
    "with open(\"6.1.3-csv.txt\") as f:\n",
    "    lines = list(csv.reader(f))\n",
    "header, values = lines[0], lines[1:]\n",
    "# 使用 字典推导式 和表达式 zip(*values) 生成包含数据列的字典\n",
    "data_dict = {h: v for h, v in zip(header, zip(*values))}\n",
    "data_dict"
   ]
  },
  {
   "cell_type": "code",
   "execution_count": null,
   "metadata": {},
   "outputs": [],
   "source": []
  }
 ],
 "metadata": {
  "language_info": {
   "codemirror_mode": {
    "name": "ipython",
    "version": 3
   },
   "file_extension": ".py",
   "mimetype": "text/x-python",
   "name": "python",
   "nbconvert_exporter": "python",
   "pygments_lexer": "ipython3",
   "version": "3.7.4-final"
  },
  "orig_nbformat": 2,
  "kernelspec": {
   "name": "python37464bitpandassample4shxcqq7py37venv5d129e48a3204332a41b2c2d80da020e",
   "display_name": "Python 3.7.4 64-bit ('pandas-sample-4shxcQQ7-py3.7': venv)"
  }
 },
 "nbformat": 4,
 "nbformat_minor": 2
}